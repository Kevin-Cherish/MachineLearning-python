{
 "cells": [
  {
   "cell_type": "markdown",
   "metadata": {},
   "source": [
    "1.0 导入包"
   ]
  },
  {
   "cell_type": "code",
   "execution_count": 1,
   "metadata": {},
   "outputs": [],
   "source": [
    "import numpy as np\n",
    "import tensorflow as tf\n",
    "import matplotlib.pyplot as plt\n",
    "from tf_utils import load_dataset"
   ]
  },
  {
   "cell_type": "markdown",
   "metadata": {},
   "source": [
    "1.1 Visualizing the dataset"
   ]
  },
  {
   "cell_type": "code",
   "execution_count": 2,
   "metadata": {},
   "outputs": [
    {
     "name": "stdout",
     "output_type": "stream",
     "text": [
      "train_X shape:  (12, 1)\ntrain_y shape:  (12, 1)\n"
     ]
    },
    {
     "data": {
      "text/plain": [
       "Text(0, 0.5, 'Water flowing out of the dam (y)')"
      ]
     },
     "execution_count": 2,
     "metadata": {},
     "output_type": "execute_result"
    },
    {
     "data": {
      "image/png": "[encoded data removed]",
      "text/plain": [
       "<Figure size 576x360 with 1 Axes>"
      ]
     },
     "metadata": {},
     "output_type": "display_data"
    }
   ],
   "source": [
    "train_X, train_y, Xval, yval, Xtest, ytest = load_dataset()\n",
    "print('train_X shape: ', train_X.shape)\n",
    "print('train_y shape: ', train_y.shape)\n",
    "plt.figure(figsize=(8, 5))\n",
    "plt.scatter(train_X, train_y, c='r',marker='x')\n",
    "plt.xlabel('Change in water level (x)')\n",
    "plt.ylabel('Water flowing out of the dam (y)')"
   ]
  },
  {
   "cell_type": "markdown",
   "metadata": {},
   "source": [
    "1.2 Regularized linear regression cost function"
   ]
  },
  {
   "cell_type": "code",
   "execution_count": 41,
   "metadata": {},
   "outputs": [
    {
     "name": "stdout",
     "output_type": "stream",
     "text": [
      "Tensor(\"Add_4:0\", shape=(?, 1), dtype=float32)\n"
     ]
    }
   ],
   "source": [
    "X = tf.placeholder(\"float\")\n",
    "Y = tf.placeholder(\"float\")\n",
    "\n",
    "tf.set_random_seed(1)  # so that your \"random\" numbers match ours\n",
    "\n",
    "# Set model weights\n",
    "W = tf.Variable(tf.random_normal((1,1)), name=\"weight\")\n",
    "b = tf.Variable(3.0, name=\"bias\")\n",
    "# Construct a linear model\n",
    "pred = tf.add(tf.matmul(X, W), b)  # (12, 1)  (1, 1)  (12, 1)\n",
    "print(pred)\n",
    "# Y = WX + b"
   ]
  },
  {
   "cell_type": "code",
   "execution_count": 42,
   "metadata": {},
   "outputs": [],
   "source": [
    "def model(train_X, train_y, learning_rate=0.001, lambd=0.1,\n",
    "          num_epochs=1500, print_cost=True):\n",
    "    costs = []\n",
    "    m, n= train_X.shape\n",
    "    print(m, n)\n",
    "    cost = tf.reduce_sum(tf.square(pred - train_y))/ (2 * m)\n",
    "    \n",
    "    optimizer = tf.train.GradientDescentOptimizer(learning_rate).minimize(cost)\n",
    "    # Initialize the variables (i.e. assign their default value)\n",
    "    init = tf.global_variables_initializer()\n",
    "    \n",
    "    with tf.Session() as sess:\n",
    "        sess.run(init)\n",
    "        # J = sess.run(cost, feed_dict={X: train_X, Y: train_y})\n",
    "        # print(J)\n",
    "        for epoch in range(num_epochs):\n",
    "            _, epoch_cost = sess.run([optimizer, cost], feed_dict={X:train_X, Y:train_y})\n",
    "            # Print the cost every epoch\n",
    "            if lambd != 0.0:\n",
    "                re_cost = sess.run(tf.contrib.layers.l2_regularizer(lambd)(W))\n",
    "                epoch_cost = epoch_cost + re_cost\n",
    "            if epoch % 100 == 0 and print_cost == True:\n",
    "                print(\"Cost after epoch %i: %f\" % (epoch, epoch_cost))\n",
    "            if epoch % 5 == 0:\n",
    "                costs.append(epoch_cost)\n",
    "        return costs, W.eval(), b.eval()"
   ]
  },
  {
   "cell_type": "code",
   "execution_count": 43,
   "metadata": {},
   "outputs": [
    {
     "name": "stdout",
     "output_type": "stream",
     "text": [
      "12 1\n"
     ]
    },
    {
     "name": "stdout",
     "output_type": "stream",
     "text": [
      "Cost after epoch 0: 602.205078\nCost after epoch 100: 62.953468\nCost after epoch 200: 55.797771\nCost after epoch 300: 49.903900\nCost after epoch 400: 45.049328"
     ]
    },
    {
     "name": "stdout",
     "output_type": "stream",
     "text": [
      "\nCost after epoch 500: 41.050816\nCost after epoch 600: 37.757362\nCost after epoch 700: 35.044689\nCost after epoch 800: 32.810360"
     ]
    },
    {
     "name": "stdout",
     "output_type": "stream",
     "text": [
      "\nCost after epoch 900: 30.970028\nCost after epoch 1000: 29.454220\nCost after epoch 1100: 28.205694\nCost after epoch 1200: 27.177322"
     ]
    },
    {
     "name": "stdout",
     "output_type": "stream",
     "text": [
      "\nCost after epoch 1300: 26.330311\nCost after epoch 1400: 25.632656\n"
     ]
    },
    {
     "data": {
      "image/png": "[encoded data removed]",
      "text/plain": [
       "<Figure size 432x288 with 1 Axes>"
      ]
     },
     "metadata": {},
     "output_type": "display_data"
    },
    {
     "data": {
      "image/png": "[encoded data removed]",
      "text/plain": [
       "<Figure size 432x288 with 1 Axes>"
      ]
     },
     "metadata": {},
     "output_type": "display_data"
    }
   ],
   "source": [
    "#  Fitting linear regression 拟合线性回归\n",
    "costs, W, b = model(train_X, train_y, lambd=0.0)\n",
    "# plot the cost\n",
    "plt.plot(np.squeeze(costs))\n",
    "plt.ylabel('cost')\n",
    "plt.xlabel('iterations (per tens)')\n",
    "plt.show()\n",
    "\n",
    "plt.plot(train_X, train_y, 'ro', label='Original data')\n",
    "plt.plot(train_X, W * train_X + b, label='Fitted line')\n",
    "plt.legend()\n",
    "plt.show()"
   ]
  },
  {
   "cell_type": "code",
   "execution_count": null,
   "metadata": {},
   "outputs": [],
   "source": [
    "def plot_learning_curve(X, y, Xval, yval, l):\n",
    "    \"\"\"画出学习曲线，即交叉验证误差和训练误差随样本数量的变化的变化\"\"\"\n",
    "    pass\n",
    "    # xx = range(1, len(X) + 1)  # at least has one example \n",
    "    # training_cost, cv_cost = [], []\n",
    "    # training_cost = model(X, y, l)\n",
    "    # cv_cost_i = costReg(res, Xval, yval, 0)\n",
    "    # cv_cost.append(cv_cost_i)\n",
    "    #     \n",
    "    # plt.figure(figsize=(8,5))\n",
    "    # plt.plot(xx, training_cost, label='training cost')  \n",
    "    # plt.plot(xx, cv_cost, label='cv cost') \n",
    "    # plt.legend()\n",
    "    # plt.xlabel('Number of training examples')\n",
    "    # plt.ylabel('Error')\n",
    "    # plt.title('Learning curve for linear regression')\n",
    "    # plt.grid(True)"
   ]
  }
 ],
 "metadata": {},
 "nbformat": 4,
 "nbformat_minor": 0
}